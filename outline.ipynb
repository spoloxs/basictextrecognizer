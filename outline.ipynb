{
 "cells": [
  {
   "cell_type": "code",
   "execution_count": 1,
   "metadata": {},
   "outputs": [
    {
     "name": "stdout",
     "output_type": "stream",
     "text": [
      "Requirement already satisfied: Pillow in ./.venv/lib/python3.10/site-packages (10.3.0)\n",
      "Note: you may need to restart the kernel to use updated packages.\n"
     ]
    }
   ],
   "source": [
    "pip install Pillow"
   ]
  },
  {
   "cell_type": "code",
   "execution_count": 2,
   "metadata": {},
   "outputs": [],
   "source": [
    "from PIL import Image\n",
    "import numpy as np"
   ]
  },
  {
   "cell_type": "code",
   "execution_count": 126,
   "metadata": {},
   "outputs": [
    {
     "data": {
      "image/jpeg": "[encoded data removed]",
      "image/png": "[encoded data removed]",
      "text/plain": [
       "<PIL.Image.Image image mode=L size=167x148>"
      ]
     },
     "execution_count": 126,
     "metadata": {},
     "output_type": "execute_result"
    }
   ],
   "source": [
    "from PIL import Image\n",
    "import numpy as np\n",
    "\n",
    "# Open the image file\n",
    "image = Image.open('download.png')\n",
    "\n",
    "# Convert the image to grayscale\n",
    "image = image.convert('L')\n",
    "\n",
    "# Convert image to numpy array\n",
    "image_array = np.array(image)\n",
    "size = image_array.shape\n",
    "\n",
    "# Pad the image array\n",
    "image_array = np.pad(image_array, ((1, 1), (1, 1)), mode='constant', constant_values=0)\n",
    "\n",
    "# Define the outline matrix\n",
    "outline_matrix = np.array([[-0.25, -0.5, -0.25], [0, 9, 0], [0.25, 0.5, 0.25]])\n",
    "\n",
    "def cell_value(width, height):\n",
    "    cell = 0\n",
    "    for i in range(height - 1, height + 2):\n",
    "        for j in range(width - 1, width + 2):\n",
    "            product = image_array[i][j] * outline_matrix[i - (height - 1)][j - (width - 1)]\n",
    "            cell += 255 if product > 127.4 else 0\n",
    "    return cell\n",
    "\n",
    "# Compute the modified array\n",
    "modified_array = []\n",
    "for i in range(1, size[0] + 1):\n",
    "    w_array = []\n",
    "    for j in range(1, size[1] + 1):\n",
    "        w_array.append(cell_value(j, i))\n",
    "    modified_array.append(w_array)\n",
    "\n",
    "# Convert modified array to numpy array\n",
    "modified_array_np = np.array(modified_array)\n",
    "\n",
    "# Create the modified image\n",
    "modified_image = Image.fromarray(modified_array_np.astype('uint8'))\n",
    "\n",
    "modified_image\n"
   ]
  }
 ],
 "metadata": {
  "kernelspec": {
   "display_name": ".venv",
   "language": "python",
   "name": "python3"
  },
  "language_info": {
   "codemirror_mode": {
    "name": "ipython",
    "version": 3
   },
   "file_extension": ".py",
   "mimetype": "text/x-python",
   "name": "python",
   "nbconvert_exporter": "python",
   "pygments_lexer": "ipython3",
   "version": "3.10.12"
  }
 },
 "nbformat": 4,
 "nbformat_minor": 2
}
